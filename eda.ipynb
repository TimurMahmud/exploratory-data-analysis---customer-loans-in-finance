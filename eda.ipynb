{
 "cells": [
  {
   "cell_type": "markdown",
   "metadata": {},
   "source": [
    "# Exploratory Data Analysis"
   ]
  },
  {
   "cell_type": "code",
   "execution_count": 3,
   "metadata": {},
   "outputs": [],
   "source": [
    "import pandas as pd"
   ]
  },
  {
   "cell_type": "markdown",
   "metadata": {},
   "source": [
    "### Data Overview"
   ]
  },
  {
   "cell_type": "code",
   "execution_count": 8,
   "metadata": {},
   "outputs": [
    {
     "name": "stdout",
     "output_type": "stream",
     "text": [
      "         id  member_id  loan_amount  funded_amount  funded_amount_inv  \\\n",
      "0  38676116   41461848         8000         8000.0             8000.0   \n",
      "1  38656203   41440010        13200        13200.0            13200.0   \n",
      "2  38656154   41439961        16000        16000.0            16000.0   \n",
      "\n",
      "        term  int_rate  instalment grade sub_grade  ... recoveries  \\\n",
      "0  36 months      7.49      248.82     A        A4  ...        0.0   \n",
      "1  36 months      6.99      407.52     A        A3  ...        0.0   \n",
      "2  36 months      7.49      497.63     A        A4  ...        0.0   \n",
      "\n",
      "  collection_recovery_fee  last_payment_date last_payment_amount  \\\n",
      "0                     0.0           Jan-2022              248.82   \n",
      "1                     0.0           Jan-2022              407.52   \n",
      "2                     0.0           Oct-2021            12850.16   \n",
      "\n",
      "  next_payment_date last_credit_pull_date collections_12_mths_ex_med  \\\n",
      "0          Feb-2022              Jan-2022                        0.0   \n",
      "1          Feb-2022              Jan-2022                        0.0   \n",
      "2               NaN              Oct-2021                        0.0   \n",
      "\n",
      "  mths_since_last_major_derog  policy_code  application_type  \n",
      "0                         5.0            1        INDIVIDUAL  \n",
      "1                         NaN            1        INDIVIDUAL  \n",
      "2                         NaN            1        INDIVIDUAL  \n",
      "\n",
      "[3 rows x 43 columns]\n"
     ]
    }
   ],
   "source": [
    "df = pd.read_csv('loan.csv')\n",
    "print(df.head(3)) "
   ]
  },
  {
   "cell_type": "code",
   "execution_count": null,
   "metadata": {},
   "outputs": [],
   "source": [
    "#Base analysis\n",
    "print(df.info())"
   ]
  },
  {
   "cell_type": "code",
   "execution_count": null,
   "metadata": {},
   "outputs": [],
   "source": [
    "print(df.describe())"
   ]
  },
  {
   "cell_type": "markdown",
   "metadata": {},
   "source": [
    "### Date Format Change"
   ]
  },
  {
   "cell_type": "code",
   "execution_count": 19,
   "metadata": {},
   "outputs": [
    {
     "name": "stdout",
     "output_type": "stream",
     "text": [
      "         id  member_id  loan_amount  funded_amount  funded_amount_inv       term  int_rate  instalment grade sub_grade employment_length home_ownership  annual_inc verification_status issue_date loan_status payment_plan      purpose    dti  delinq_2yrs earliest_credit_line  inq_last_6mths  mths_since_last_delinq  mths_since_last_record  open_accounts  total_accounts  out_prncp  out_prncp_inv  total_payment  total_payment_inv  total_rec_prncp  total_rec_int  total_rec_late_fee  recoveries  collection_recovery_fee last_payment_date  last_payment_amount next_payment_date last_credit_pull_date  collections_12_mths_ex_med  mths_since_last_major_derog  policy_code application_type\n",
      "0  38676116   41461848         8000         8000.0             8000.0  36 months      7.49      248.82     A        A4           5 years       MORTGAGE     46000.0        Not Verified 2021-01-01     Current            n  credit_card  19.54            2           1987-10-01               1                     5.0                     NaN             12              27    5529.70        5529.70        2982.51            2982.51          2470.30         512.21                 0.0         0.0                      0.0        2022-01-01               248.82        2022-02-01            2022-01-01                         0.0                          5.0            1       INDIVIDUAL\n",
      "1  38656203   41440010        13200        13200.0            13200.0  36 months      6.99      407.52     A        A3           9 years           RENT     50000.0        Not Verified 2021-01-01     Current            n  credit_card  24.20            0           2001-09-01               0                     NaN                     NaN             15              31    9102.83        9102.83        4885.11            4885.11          4097.17         787.94                 0.0         0.0                      0.0        2022-01-01               407.52        2022-02-01            2022-01-01                         0.0                          NaN            1       INDIVIDUAL\n",
      "2  38656154   41439961        16000        16000.0            16000.0  36 months      7.49      497.63     A        A4           8 years       MORTGAGE     73913.0     Source Verified 2021-01-01  Fully Paid            n  credit_card  16.92            0           1998-09-01               0                    69.0                     NaN              7              18       0.00           0.00       16824.54           16824.54         16000.00         824.54                 0.0         0.0                      0.0        2021-10-01             12850.16               NaT            2021-10-01                         0.0                          NaN            1       INDIVIDUAL\n"
     ]
    }
   ],
   "source": [
    "df['last_payment_date'] = pd.to_datetime(df['last_payment_date'])\n",
    "df['next_payment_date'] = pd.to_datetime(df['next_payment_date'])\n",
    "df['last_credit_pull_date'] = pd.to_datetime(df['last_credit_pull_date'])\n",
    "df['issue_date'] = pd.to_datetime(df['issue_date'])\n",
    "df['earliest_credit_line'] = pd.to_datetime(df['earliest_credit_line'])\n",
    "df['last_credit_pull_date'] = pd.to_datetime(df['last_credit_pull_date'])\n",
    "\n",
    "print(df.head(3).to_string())"
   ]
  },
  {
   "cell_type": "markdown",
   "metadata": {},
   "source": [
    "### Other Format Changes"
   ]
  },
  {
   "cell_type": "code",
   "execution_count": 36,
   "metadata": {},
   "outputs": [
    {
     "name": "stdout",
     "output_type": "stream",
     "text": [
      "0    36.0\n",
      "1    36.0\n",
      "2    36.0\n",
      "Name: term(months), dtype: float64\n",
      "         id  member_id  loan_amount  funded_amount  funded_amount_inv  term(months)  int_rate  instalment grade sub_grade employment_length home_ownership  annual_inc verification_status issue_date loan_status payment_plan      purpose    dti  delinq_2yrs earliest_credit_line  inq_last_6mths  mths_since_last_delinq  mths_since_last_record  open_accounts  total_accounts  out_prncp  out_prncp_inv  total_payment  total_payment_inv  total_rec_prncp  total_rec_int  total_rec_late_fee  recoveries  collection_recovery_fee last_payment_date  last_payment_amount next_payment_date last_credit_pull_date  collections_12_mths_ex_med  mths_since_last_major_derog  policy_code application_type\n",
      "0  38676116   41461848         8000         8000.0             8000.0          36.0      7.49      248.82     A        A4           5 years       MORTGAGE     46000.0        Not Verified 2021-01-01     Current            n  credit_card  19.54            2           1987-10-01               1                     5.0                     NaN             12              27    5529.70        5529.70        2982.51            2982.51          2470.30         512.21                 0.0         0.0                      0.0        2022-01-01               248.82        2022-02-01            2022-01-01                         0.0                          5.0            1       INDIVIDUAL\n",
      "1  38656203   41440010        13200        13200.0            13200.0          36.0      6.99      407.52     A        A3           9 years           RENT     50000.0        Not Verified 2021-01-01     Current            n  credit_card  24.20            0           2001-09-01               0                     NaN                     NaN             15              31    9102.83        9102.83        4885.11            4885.11          4097.17         787.94                 0.0         0.0                      0.0        2022-01-01               407.52        2022-02-01            2022-01-01                         0.0                          NaN            1       INDIVIDUAL\n",
      "2  38656154   41439961        16000        16000.0            16000.0          36.0      7.49      497.63     A        A4           8 years       MORTGAGE     73913.0     Source Verified 2021-01-01  Fully Paid            n  credit_card  16.92            0           1998-09-01               0                    69.0                     NaN              7              18       0.00           0.00       16824.54           16824.54         16000.00         824.54                 0.0         0.0                      0.0        2021-10-01             12850.16               NaT            2021-10-01                         0.0                          NaN            1       INDIVIDUAL\n"
     ]
    }
   ],
   "source": [
    "## df['term'] = df['term'].str.extract('(\\d+)').astype(float)\n",
    "##print(df['term'])\n",
    "df = df.rename(columns={'term': 'term(months)'})\n",
    "print(df['term(months)'].head(3))\n",
    "print(df.head(3).to_string())"
   ]
  }
 ],
 "metadata": {
  "kernelspec": {
   "display_name": "base",
   "language": "python",
   "name": "python3"
  },
  "language_info": {
   "codemirror_mode": {
    "name": "ipython",
    "version": 3
   },
   "file_extension": ".py",
   "mimetype": "text/x-python",
   "name": "python",
   "nbconvert_exporter": "python",
   "pygments_lexer": "ipython3",
   "version": "3.9.13"
  }
 },
 "nbformat": 4,
 "nbformat_minor": 2
}
