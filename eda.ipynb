{
 "cells": [
  {
   "cell_type": "markdown",
   "metadata": {},
   "source": [
    "# Exploratory Data Analysis"
   ]
  },
  {
   "cell_type": "code",
   "execution_count": 2,
   "metadata": {},
   "outputs": [],
   "source": [
    "import pandas as pd"
   ]
  },
  {
   "cell_type": "markdown",
   "metadata": {},
   "source": [
    "### Data Overview"
   ]
  },
  {
   "cell_type": "code",
   "execution_count": 3,
   "metadata": {},
   "outputs": [
    {
     "name": "stdout",
     "output_type": "stream",
     "text": [
      "         id  member_id  loan_amount  funded_amount  funded_amount_inv  \\\n",
      "0  38676116   41461848         8000         8000.0             8000.0   \n",
      "1  38656203   41440010        13200        13200.0            13200.0   \n",
      "2  38656154   41439961        16000        16000.0            16000.0   \n",
      "\n",
      "        term  int_rate  instalment grade sub_grade  ... recoveries  \\\n",
      "0  36 months      7.49      248.82     A        A4  ...        0.0   \n",
      "1  36 months      6.99      407.52     A        A3  ...        0.0   \n",
      "2  36 months      7.49      497.63     A        A4  ...        0.0   \n",
      "\n",
      "  collection_recovery_fee  last_payment_date last_payment_amount  \\\n",
      "0                     0.0           Jan-2022              248.82   \n",
      "1                     0.0           Jan-2022              407.52   \n",
      "2                     0.0           Oct-2021            12850.16   \n",
      "\n",
      "  next_payment_date last_credit_pull_date collections_12_mths_ex_med  \\\n",
      "0          Feb-2022              Jan-2022                        0.0   \n",
      "1          Feb-2022              Jan-2022                        0.0   \n",
      "2               NaN              Oct-2021                        0.0   \n",
      "\n",
      "  mths_since_last_major_derog  policy_code  application_type  \n",
      "0                         5.0            1        INDIVIDUAL  \n",
      "1                         NaN            1        INDIVIDUAL  \n",
      "2                         NaN            1        INDIVIDUAL  \n",
      "\n",
      "[3 rows x 43 columns]\n"
     ]
    }
   ],
   "source": [
    "df = pd.read_csv('loan.csv')\n",
    "print(df.head(3)) "
   ]
  },
  {
   "cell_type": "code",
   "execution_count": 4,
   "metadata": {},
   "outputs": [
    {
     "name": "stdout",
     "output_type": "stream",
     "text": [
      "<class 'pandas.core.frame.DataFrame'>\n",
      "RangeIndex: 54231 entries, 0 to 54230\n",
      "Data columns (total 43 columns):\n",
      " #   Column                       Non-Null Count  Dtype  \n",
      "---  ------                       --------------  -----  \n",
      " 0   id                           54231 non-null  int64  \n",
      " 1   member_id                    54231 non-null  int64  \n",
      " 2   loan_amount                  54231 non-null  int64  \n",
      " 3   funded_amount                51224 non-null  float64\n",
      " 4   funded_amount_inv            54231 non-null  float64\n",
      " 5   term                         49459 non-null  object \n",
      " 6   int_rate                     49062 non-null  float64\n",
      " 7   instalment                   54231 non-null  float64\n",
      " 8   grade                        54231 non-null  object \n",
      " 9   sub_grade                    54231 non-null  object \n",
      " 10  employment_length            52113 non-null  object \n",
      " 11  home_ownership               54231 non-null  object \n",
      " 12  annual_inc                   54231 non-null  float64\n",
      " 13  verification_status          54231 non-null  object \n",
      " 14  issue_date                   54231 non-null  object \n",
      " 15  loan_status                  54231 non-null  object \n",
      " 16  payment_plan                 54231 non-null  object \n",
      " 17  purpose                      54231 non-null  object \n",
      " 18  dti                          54231 non-null  float64\n",
      " 19  delinq_2yrs                  54231 non-null  int64  \n",
      " 20  earliest_credit_line         54231 non-null  object \n",
      " 21  inq_last_6mths               54231 non-null  int64  \n",
      " 22  mths_since_last_delinq       23229 non-null  float64\n",
      " 23  mths_since_last_record       6181 non-null   float64\n",
      " 24  open_accounts                54231 non-null  int64  \n",
      " 25  total_accounts               54231 non-null  int64  \n",
      " 26  out_prncp                    54231 non-null  float64\n",
      " 27  out_prncp_inv                54231 non-null  float64\n",
      " 28  total_payment                54231 non-null  float64\n",
      " 29  total_payment_inv            54231 non-null  float64\n",
      " 30  total_rec_prncp              54231 non-null  float64\n",
      " 31  total_rec_int                54231 non-null  float64\n",
      " 32  total_rec_late_fee           54231 non-null  float64\n",
      " 33  recoveries                   54231 non-null  float64\n",
      " 34  collection_recovery_fee      54231 non-null  float64\n",
      " 35  last_payment_date            54158 non-null  object \n",
      " 36  last_payment_amount          54231 non-null  float64\n",
      " 37  next_payment_date            21623 non-null  object \n",
      " 38  last_credit_pull_date        54224 non-null  object \n",
      " 39  collections_12_mths_ex_med   54180 non-null  float64\n",
      " 40  mths_since_last_major_derog  7499 non-null   float64\n",
      " 41  policy_code                  54231 non-null  int64  \n",
      " 42  application_type             54231 non-null  object \n",
      "dtypes: float64(20), int64(8), object(15)\n",
      "memory usage: 17.8+ MB\n",
      "None\n"
     ]
    }
   ],
   "source": [
    "#Base analysis\n",
    "print(df.info())"
   ]
  },
  {
   "cell_type": "code",
   "execution_count": 5,
   "metadata": {},
   "outputs": [
    {
     "name": "stdout",
     "output_type": "stream",
     "text": [
      "                 id     member_id   loan_amount  funded_amount  \\\n",
      "count  5.423100e+04  5.423100e+04  54231.000000   51224.000000   \n",
      "mean   7.621797e+06  8.655350e+06  13333.076100   13229.509117   \n",
      "std    9.571362e+06  1.031281e+07   8082.196709    8019.017599   \n",
      "min    5.552100e+04  7.069400e+04    500.000000     500.000000   \n",
      "25%    7.594330e+05  9.587720e+05   7000.000000    7000.000000   \n",
      "50%    7.084590e+06  8.709873e+06  12000.000000   12000.000000   \n",
      "75%    8.860616e+06  1.052714e+07  18000.000000   18000.000000   \n",
      "max    3.867612e+07  4.146185e+07  35000.000000   35000.000000   \n",
      "\n",
      "       funded_amount_inv      int_rate    instalment    annual_inc  \\\n",
      "count       54231.000000  49062.000000  54231.000000  5.423100e+04   \n",
      "mean        12952.622979     13.507328    400.013953  7.222085e+04   \n",
      "std          8099.473527      4.392893    238.920012  5.158934e+04   \n",
      "min             0.000000      5.420000     15.670000  3.300000e+03   \n",
      "25%          6700.000000     10.370000    224.205000  4.500000e+04   \n",
      "50%         11300.000000     13.160000    347.150000  6.100000e+04   \n",
      "75%         18000.000000     16.200000    527.550000  8.600000e+04   \n",
      "max         35000.000000     26.060000   1407.010000  2.039784e+06   \n",
      "\n",
      "                dti   delinq_2yrs  ...  total_payment_inv  total_rec_prncp  \\\n",
      "count  54231.000000  54231.000000  ...       54231.000000     54231.000000   \n",
      "mean      15.867087      0.241799  ...       11788.946618      9407.048589   \n",
      "std        7.623124      0.706706  ...        8363.508506      6958.124264   \n",
      "min        0.000000      0.000000  ...           0.000000         0.000000   \n",
      "25%       10.200000      0.000000  ...        5658.815000      4264.350000   \n",
      "50%       15.600000      0.000000  ...        9835.830000      7644.920000   \n",
      "75%       21.260000      0.000000  ...       15978.200000     12505.625000   \n",
      "max       39.910000     18.000000  ...       55061.000000     35000.020000   \n",
      "\n",
      "       total_rec_int  total_rec_late_fee    recoveries  \\\n",
      "count   54231.000000        54231.000000  54231.000000   \n",
      "mean     2577.757101            0.901512     93.501288   \n",
      "std      2581.657345            6.215792    630.843636   \n",
      "min         0.000000            0.000000      0.000000   \n",
      "25%       889.560000            0.000000      0.000000   \n",
      "50%      1734.640000            0.000000      0.000000   \n",
      "75%      3323.765000            0.000000      0.000000   \n",
      "max     23062.450000          358.680000  27750.000000   \n",
      "\n",
      "       collection_recovery_fee  last_payment_amount  \\\n",
      "count             54231.000000         54231.000000   \n",
      "mean                 10.859057          3130.706393   \n",
      "std                 120.193950          5323.801675   \n",
      "min                   0.000000             0.000000   \n",
      "25%                   0.000000           289.790000   \n",
      "50%                   0.000000           562.670000   \n",
      "75%                   0.000000          3738.120000   \n",
      "max                7002.190000         36115.200000   \n",
      "\n",
      "       collections_12_mths_ex_med  mths_since_last_major_derog  policy_code  \n",
      "count                54180.000000                  7499.000000      54231.0  \n",
      "mean                     0.004208                    42.253634          1.0  \n",
      "std                      0.070990                    21.052360          0.0  \n",
      "min                      0.000000                     0.000000          1.0  \n",
      "25%                      0.000000                    26.000000          1.0  \n",
      "50%                      0.000000                    42.000000          1.0  \n",
      "75%                      0.000000                    59.000000          1.0  \n",
      "max                      4.000000                   146.000000          1.0  \n",
      "\n",
      "[8 rows x 28 columns]\n"
     ]
    }
   ],
   "source": [
    "print(df.describe())"
   ]
  },
  {
   "cell_type": "markdown",
   "metadata": {},
   "source": [
    "### Date Format Change"
   ]
  },
  {
   "cell_type": "code",
   "execution_count": 6,
   "metadata": {},
   "outputs": [
    {
     "name": "stdout",
     "output_type": "stream",
     "text": [
      "         id  member_id  loan_amount  funded_amount  funded_amount_inv       term  int_rate  instalment grade sub_grade employment_length home_ownership  annual_inc verification_status issue_date loan_status payment_plan      purpose    dti  delinq_2yrs earliest_credit_line  inq_last_6mths  mths_since_last_delinq  mths_since_last_record  open_accounts  total_accounts  out_prncp  out_prncp_inv  total_payment  total_payment_inv  total_rec_prncp  total_rec_int  total_rec_late_fee  recoveries  collection_recovery_fee last_payment_date  last_payment_amount next_payment_date last_credit_pull_date  collections_12_mths_ex_med  mths_since_last_major_derog  policy_code application_type\n",
      "0  38676116   41461848         8000         8000.0             8000.0  36 months      7.49      248.82     A        A4           5 years       MORTGAGE     46000.0        Not Verified 2021-01-01     Current            n  credit_card  19.54            2           1987-10-01               1                     5.0                     NaN             12              27    5529.70        5529.70        2982.51            2982.51          2470.30         512.21                 0.0         0.0                      0.0        2022-01-01               248.82        2022-02-01            2022-01-01                         0.0                          5.0            1       INDIVIDUAL\n",
      "1  38656203   41440010        13200        13200.0            13200.0  36 months      6.99      407.52     A        A3           9 years           RENT     50000.0        Not Verified 2021-01-01     Current            n  credit_card  24.20            0           2001-09-01               0                     NaN                     NaN             15              31    9102.83        9102.83        4885.11            4885.11          4097.17         787.94                 0.0         0.0                      0.0        2022-01-01               407.52        2022-02-01            2022-01-01                         0.0                          NaN            1       INDIVIDUAL\n",
      "2  38656154   41439961        16000        16000.0            16000.0  36 months      7.49      497.63     A        A4           8 years       MORTGAGE     73913.0     Source Verified 2021-01-01  Fully Paid            n  credit_card  16.92            0           1998-09-01               0                    69.0                     NaN              7              18       0.00           0.00       16824.54           16824.54         16000.00         824.54                 0.0         0.0                      0.0        2021-10-01             12850.16               NaT            2021-10-01                         0.0                          NaN            1       INDIVIDUAL\n"
     ]
    }
   ],
   "source": [
    "df['last_payment_date'] = pd.to_datetime(df['last_payment_date'])\n",
    "df['next_payment_date'] = pd.to_datetime(df['next_payment_date'])\n",
    "df['last_credit_pull_date'] = pd.to_datetime(df['last_credit_pull_date'])\n",
    "df['issue_date'] = pd.to_datetime(df['issue_date'])\n",
    "df['earliest_credit_line'] = pd.to_datetime(df['earliest_credit_line'])\n",
    "df['last_credit_pull_date'] = pd.to_datetime(df['last_credit_pull_date'])\n",
    "\n",
    "print(df.head(3).to_string())"
   ]
  },
  {
   "cell_type": "markdown",
   "metadata": {},
   "source": [
    "### Other Format Changes"
   ]
  },
  {
   "cell_type": "code",
   "execution_count": 7,
   "metadata": {},
   "outputs": [
    {
     "name": "stdout",
     "output_type": "stream",
     "text": [
      "0    36 months\n",
      "1    36 months\n",
      "2    36 months\n",
      "Name: term(months), dtype: object\n",
      "         id  member_id  loan_amount  funded_amount  funded_amount_inv term(months)  int_rate  instalment grade sub_grade employment_length home_ownership  annual_inc verification_status issue_date loan_status payment_plan      purpose    dti  delinq_2yrs earliest_credit_line  inq_last_6mths  mths_since_last_delinq  mths_since_last_record  open_accounts  total_accounts  out_prncp  out_prncp_inv  total_payment  total_payment_inv  total_rec_prncp  total_rec_int  total_rec_late_fee  recoveries  collection_recovery_fee last_payment_date  last_payment_amount next_payment_date last_credit_pull_date  collections_12_mths_ex_med  mths_since_last_major_derog  policy_code application_type\n",
      "0  38676116   41461848         8000         8000.0             8000.0    36 months      7.49      248.82     A        A4           5 years       MORTGAGE     46000.0        Not Verified 2021-01-01     Current            n  credit_card  19.54            2           1987-10-01               1                     5.0                     NaN             12              27    5529.70        5529.70        2982.51            2982.51          2470.30         512.21                 0.0         0.0                      0.0        2022-01-01               248.82        2022-02-01            2022-01-01                         0.0                          5.0            1       INDIVIDUAL\n",
      "1  38656203   41440010        13200        13200.0            13200.0    36 months      6.99      407.52     A        A3           9 years           RENT     50000.0        Not Verified 2021-01-01     Current            n  credit_card  24.20            0           2001-09-01               0                     NaN                     NaN             15              31    9102.83        9102.83        4885.11            4885.11          4097.17         787.94                 0.0         0.0                      0.0        2022-01-01               407.52        2022-02-01            2022-01-01                         0.0                          NaN            1       INDIVIDUAL\n",
      "2  38656154   41439961        16000        16000.0            16000.0    36 months      7.49      497.63     A        A4           8 years       MORTGAGE     73913.0     Source Verified 2021-01-01  Fully Paid            n  credit_card  16.92            0           1998-09-01               0                    69.0                     NaN              7              18       0.00           0.00       16824.54           16824.54         16000.00         824.54                 0.0         0.0                      0.0        2021-10-01             12850.16               NaT            2021-10-01                         0.0                          NaN            1       INDIVIDUAL\n"
     ]
    }
   ],
   "source": [
    "## df['term'] = df['term'].str.extract('(\\d+)').astype(float)\n",
    "##print(df['term'])\n",
    "df = df.rename(columns={'term': 'term(months)'})\n",
    "print(df['term(months)'].head(3))\n",
    "print(df.head(3).to_string())"
   ]
  }
 ],
 "metadata": {
  "kernelspec": {
   "display_name": "base",
   "language": "python",
   "name": "python3"
  },
  "language_info": {
   "codemirror_mode": {
    "name": "ipython",
    "version": 3
   },
   "file_extension": ".py",
   "mimetype": "text/x-python",
   "name": "python",
   "nbconvert_exporter": "python",
   "pygments_lexer": "ipython3",
   "version": "3.9.13"
  }
 },
 "nbformat": 4,
 "nbformat_minor": 2
}
